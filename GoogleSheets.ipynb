{
 "cells": [
  {
   "cell_type": "code",
   "execution_count": 6,
   "id": "13beeab5-bf6e-4889-8b12-ab4aec621d27",
   "metadata": {},
   "outputs": [],
   "source": [
    "import pandas as pd \n",
    "import gspread \n",
    "from oauth2client.service_account import ServiceAccountCredentials\n",
    "from pandas.io.json import json_normalize"
   ]
  },
  {
   "cell_type": "code",
   "execution_count": 9,
   "id": "9374e9d1-2d88-4fd5-8fe3-7d620d816082",
   "metadata": {},
   "outputs": [],
   "source": [
    "# Connect to our service account\n",
    "scope = ['https://spreadsheets.google.com/feeds']\n",
    "credentials = ServiceAccountCredentials.from_json_keyfile_name('./sa_cred.json', scope)\n",
    "gc = gspread.authorize(credentials)"
   ]
  },
  {
   "cell_type": "code",
   "execution_count": 15,
   "id": "ffc10954-75cc-40e3-bbd0-fd314b652479",
   "metadata": {},
   "outputs": [
    {
     "data": {
      "text/plain": [
       "[['Date', 'High'],\n",
       " ['1/4/2021 16:00:00', '163.6'],\n",
       " ['1/5/2021 16:00:00', '161.17'],\n",
       " ['1/6/2021 16:00:00', '159.88'],\n",
       " ['1/7/2021 16:00:00', '160.43'],\n",
       " ['1/8/2021 16:00:00', '159.53'],\n",
       " ['1/11/2021 16:00:00', '157.82'],\n",
       " ['1/12/2021 16:00:00', '157.11'],\n",
       " ['1/13/2021 16:00:00', '159.5'],\n",
       " ['1/14/2021 16:00:00', '158.9'],\n",
       " ['1/15/2021 16:00:00', '157.13'],\n",
       " ['1/19/2021 16:00:00', '157.25'],\n",
       " ['1/20/2021 16:00:00', '163.99'],\n",
       " ['1/21/2021 16:00:00', '167.43'],\n",
       " ['1/22/2021 16:00:00', '166.1'],\n",
       " ['1/25/2021 16:00:00', '168.19'],\n",
       " ['1/26/2021 16:00:00', '166.9'],\n",
       " ['1/27/2021 16:00:00', '167.33'],\n",
       " ['1/28/2021 16:00:00', '165.08'],\n",
       " ['1/29/2021 16:00:00', '161.85']]"
      ]
     },
     "execution_count": 15,
     "metadata": {},
     "output_type": "execute_result"
    }
   ],
   "source": [
    "##Get candidate data sheet from Google Drive\n",
    "spreadsheet_key = '1dQNs-d9fFF4j6sZQjORiP1BhkZbmLnzHxW6toTA6NQU'\n",
    "book = gc.open_by_key(spreadsheet_key)\n",
    "worksheet = book.worksheet(\"Sheet1\")\n",
    "table = worksheet.get_all_values()\n",
    "table"
   ]
  },
  {
   "cell_type": "code",
   "execution_count": null,
   "id": "111b61c5-f56c-4682-9331-a0ab13573798",
   "metadata": {},
   "outputs": [],
   "source": []
  }
 ],
 "metadata": {
  "kernelspec": {
   "display_name": "Python 3 (ipykernel)",
   "language": "python",
   "name": "python3"
  },
  "language_info": {
   "codemirror_mode": {
    "name": "ipython",
    "version": 3
   },
   "file_extension": ".py",
   "mimetype": "text/x-python",
   "name": "python",
   "nbconvert_exporter": "python",
   "pygments_lexer": "ipython3",
   "version": "3.8.12"
  }
 },
 "nbformat": 4,
 "nbformat_minor": 5
}
