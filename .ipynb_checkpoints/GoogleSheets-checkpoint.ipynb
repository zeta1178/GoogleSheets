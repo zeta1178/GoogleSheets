{
 "cells": [
  {
   "cell_type": "code",
   "execution_count": 2,
   "id": "13beeab5-bf6e-4889-8b12-ab4aec621d27",
   "metadata": {},
   "outputs": [],
   "source": [
    "import pandas as pd \n",
    "import gspread \n",
    "from oauth2client.service_account import ServiceAccountCredentials\n",
    "from pandas.io.json import json_normalize"
   ]
  },
  {
   "cell_type": "code",
   "execution_count": 5,
   "id": "9374e9d1-2d88-4fd5-8fe3-7d620d816082",
   "metadata": {},
   "outputs": [],
   "source": [
    "# Connect to our service account\n",
    "scope = ['https://spreadsheets.google.com/feeds']\n",
    "credentials = ServiceAccountCredentials.from_json_keyfile_name('./sa_cred.json', scope)\n",
    "gc = gspread.authorize(credentials)"
   ]
  },
  {
   "cell_type": "code",
   "execution_count": 8,
   "id": "ffc10954-75cc-40e3-bbd0-fd314b652479",
   "metadata": {},
   "outputs": [
    {
     "data": {
      "text/plain": [
       "[['Date', 'High'],\n",
       " ['5/25/2022 16:00:00', '108.89'],\n",
       " ['5/26/2022 16:00:00', '113.5'],\n",
       " ['5/27/2022 16:00:00', '116.01'],\n",
       " ['5/31/2022 16:00:00', '119.79'],\n",
       " ['6/1/2022 16:00:00', '120.75'],\n",
       " ['6/2/2022 16:00:00', '123.58'],\n",
       " ['6/3/2022 16:00:00', '122.54'],\n",
       " ['6/6/2022 16:00:00', '122.14'],\n",
       " ['6/7/2022 16:00:00', '121.97'],\n",
       " ['6/8/2022 16:00:00', '123.82'],\n",
       " ['6/9/2022 16:00:00', '122.03'],\n",
       " ['6/10/2022 16:00:00', '117.09'],\n",
       " ['6/13/2022 16:00:00', '112.02'],\n",
       " ['6/14/2022 16:00:00', '111.89'],\n",
       " ['6/15/2022 16:00:00', '114.72'],\n",
       " ['6/16/2022 16:00:00', '109.9'],\n",
       " ['6/17/2022 16:00:00', '108.55'],\n",
       " ['6/21/2022 16:00:00', '109.82'],\n",
       " ['6/22/2022 16:00:00', '106.9']]"
      ]
     },
     "execution_count": 8,
     "metadata": {},
     "output_type": "execute_result"
    }
   ],
   "source": [
    "##Get candidate data sheet from Google Drive\n",
    "spreadsheet_key = '1dQNs-d9fFF4j6sZQjORiP1BhkZbmLnzHxW6toTA6NQU'\n",
    "book = gc.open_by_key(spreadsheet_key)\n",
    "worksheet = book.worksheet(\"Sheet1\")\n",
    "table = worksheet.get_all_values()\n",
    "# table"
   ]
  },
  {
   "cell_type": "code",
   "execution_count": 12,
   "id": "111b61c5-f56c-4682-9331-a0ab13573798",
   "metadata": {},
   "outputs": [
    {
     "data": {
      "text/html": [
       "<div>\n",
       "<style scoped>\n",
       "    .dataframe tbody tr th:only-of-type {\n",
       "        vertical-align: middle;\n",
       "    }\n",
       "\n",
       "    .dataframe tbody tr th {\n",
       "        vertical-align: top;\n",
       "    }\n",
       "\n",
       "    .dataframe thead th {\n",
       "        text-align: right;\n",
       "    }\n",
       "</style>\n",
       "<table border=\"1\" class=\"dataframe\">\n",
       "  <thead>\n",
       "    <tr style=\"text-align: right;\">\n",
       "      <th></th>\n",
       "      <th>Date</th>\n",
       "      <th>High</th>\n",
       "    </tr>\n",
       "  </thead>\n",
       "  <tbody>\n",
       "    <tr>\n",
       "      <th>0</th>\n",
       "      <td>2022-05-25 16:00:00</td>\n",
       "      <td>108.89</td>\n",
       "    </tr>\n",
       "    <tr>\n",
       "      <th>1</th>\n",
       "      <td>2022-05-26 16:00:00</td>\n",
       "      <td>113.50</td>\n",
       "    </tr>\n",
       "    <tr>\n",
       "      <th>2</th>\n",
       "      <td>2022-05-27 16:00:00</td>\n",
       "      <td>116.01</td>\n",
       "    </tr>\n",
       "    <tr>\n",
       "      <th>3</th>\n",
       "      <td>2022-05-31 16:00:00</td>\n",
       "      <td>119.79</td>\n",
       "    </tr>\n",
       "    <tr>\n",
       "      <th>4</th>\n",
       "      <td>2022-06-01 16:00:00</td>\n",
       "      <td>120.75</td>\n",
       "    </tr>\n",
       "  </tbody>\n",
       "</table>\n",
       "</div>"
      ],
      "text/plain": [
       "                 Date    High\n",
       "0 2022-05-25 16:00:00  108.89\n",
       "1 2022-05-26 16:00:00  113.50\n",
       "2 2022-05-27 16:00:00  116.01\n",
       "3 2022-05-31 16:00:00  119.79\n",
       "4 2022-06-01 16:00:00  120.75"
      ]
     },
     "execution_count": 12,
     "metadata": {},
     "output_type": "execute_result"
    }
   ],
   "source": [
    "##Convert table data into a dataframe\n",
    "df = pd.DataFrame(table[1:], columns=table[0])\n",
    "##Only keep columns we need\n",
    "df = df[['Date', 'High']]\n",
    "##Convert number strings to floats and ints\n",
    "df = df.apply(pd.to_numeric, errors='ignore')\n",
    "##Convert date strings to datetime format\n",
    "df['Date'] = pd.to_datetime(df['Date'],infer_datetime_format=True)\n",
    "df.head()"
   ]
  },
  {
   "cell_type": "code",
   "execution_count": 13,
   "id": "e6004ccb-15e8-4dd0-a4d9-b080261abdf2",
   "metadata": {},
   "outputs": [
    {
     "data": {
      "text/plain": [
       "<Worksheet 'Jupyter Manipulated Data' id:2070671047>"
      ]
     },
     "execution_count": 13,
     "metadata": {},
     "output_type": "execute_result"
    }
   ],
   "source": [
    "from df2gspread import df2gspread as d2g\n",
    "\n",
    "wks_name = 'Jupyter Manipulated Data'\n",
    "\n",
    "d2g.upload(df, spreadsheet_key, wks_name, credentials=credentials, row_names=True)"
   ]
  },
  {
   "cell_type": "code",
   "execution_count": null,
   "id": "9fde0d10-a456-4861-b1ae-d2c3494056c3",
   "metadata": {},
   "outputs": [],
   "source": []
  }
 ],
 "metadata": {
  "kernelspec": {
   "display_name": "Python 3 (ipykernel)",
   "language": "python",
   "name": "python3"
  },
  "language_info": {
   "codemirror_mode": {
    "name": "ipython",
    "version": 3
   },
   "file_extension": ".py",
   "mimetype": "text/x-python",
   "name": "python",
   "nbconvert_exporter": "python",
   "pygments_lexer": "ipython3",
   "version": "3.8.12"
  }
 },
 "nbformat": 4,
 "nbformat_minor": 5
}
