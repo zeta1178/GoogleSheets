{
 "cells": [
  {
   "cell_type": "code",
   "execution_count": 24,
   "id": "230cd78c-0013-4aca-8c55-2db23e60d906",
   "metadata": {},
   "outputs": [],
   "source": [
    "import requests\n",
    "from itertools import islice\n",
    "import json\n",
    "import boto3\n",
    "import os\n",
    "from decimal import Decimal\n",
    "\n",
    "headers = {\n",
    "    'Content-Type': 'application/json'\n",
    "}\n",
    "URL=\"https://api.tiingo.com/tiingo/daily/NKE/prices?startDate=2022-6-1&endDate=2022-6-10&token=19e59db3a5d748a1d7528c0a6aa46736f38e9277\"\n",
    "response=requests.get(url=URL, headers=headers)\n",
    "response_dict=response.json()\n",
    "#\n",
    "N=10\n",
    "def take(n, iterable):\n",
    "    return list(islice(iterable, n))\n",
    "tmp_dict=take(N, response.json())\n",
    "# print(tmp_dict['date'])\n",
    "# tmp_dict\n",
    "\n",
    "my_session = boto3.Session(aws_access_key_id=os.environ['AWS_ACCESS_KEY'],aws_secret_access_key=os.environ['AWS_SECRET_KEY'],region_name=os.environ['AWS_REGION'])\n",
    "dynamodb = boto3.resource('dynamodb',region_name='us-east-1')\n",
    "table = dynamodb.Table('Jupyter')\n",
    "\n",
    "record = json.loads(json.dumps(tmp_dict), parse_float=Decimal)\n",
    "# record\n",
    "for r in record:\n",
    "    response = table.put_item(\n",
    "        Item={\n",
    "                'Date': r['date'], \n",
    "                'Close': r['close'],\n",
    "                'High': r['high'],\n",
    "                'Low': r['low'],\n",
    "                'Open': r['open'],\n",
    "            \n",
    "        }\n",
    "    )"
   ]
  },
  {
   "cell_type": "code",
   "execution_count": null,
   "id": "f62501ae-3214-44f8-b823-3336ab75fa89",
   "metadata": {},
   "outputs": [],
   "source": []
  },
  {
   "cell_type": "code",
   "execution_count": null,
   "id": "894af214-6ef6-4309-aa5a-55379822fc30",
   "metadata": {},
   "outputs": [],
   "source": []
  }
 ],
 "metadata": {
  "kernelspec": {
   "display_name": "Python 3 (ipykernel)",
   "language": "python",
   "name": "python3"
  },
  "language_info": {
   "codemirror_mode": {
    "name": "ipython",
    "version": 3
   },
   "file_extension": ".py",
   "mimetype": "text/x-python",
   "name": "python",
   "nbconvert_exporter": "python",
   "pygments_lexer": "ipython3",
   "version": "3.8.12"
  }
 },
 "nbformat": 4,
 "nbformat_minor": 5
}
